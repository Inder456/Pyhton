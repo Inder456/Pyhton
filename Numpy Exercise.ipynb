{
 "cells": [
  {
   "cell_type": "code",
   "execution_count": 15,
   "id": "324d3080",
   "metadata": {},
   "outputs": [
    {
     "name": "stdout",
     "output_type": "stream",
     "text": [
      "[ True  True  True  True  True  True  True  True  True False]\n",
      "[ True  True  True  True  True  True  True  True  True False]\n",
      "[False False False False False False False False False False]\n",
      "[False False False False False False False False False  True]\n",
      "[ True  True  True  True  True  True  True  True  True  True]\n"
     ]
    }
   ],
   "source": [
    "#Write a NumPy program to create an element-wise comparison (greater,\n",
    "#greater_equal, less and less_equal) of two given arrays.\n",
    "import numpy as np\n",
    "x = np.array([72, 79, 85, 90, 150, -135, 120, -10, 60, 100])\n",
    "y = np.array([72, 79, 85, 90, 150, -135, 120, -10, 60, 100.000001])\n",
    "print(np.equal(x,y))   \n",
    "print(np.greater_equal(x,y))\n",
    "print(np.greater(x,y))\n",
    "print(np.less(x,y))\n",
    "print(np.less_equal(x,y))"
   ]
  },
  {
   "cell_type": "code",
   "execution_count": 18,
   "id": "fd2a28cf",
   "metadata": {},
   "outputs": [
    {
     "name": "stdout",
     "output_type": "stream",
     "text": [
      "[0. 0. 0. 0. 0. 0. 0. 0. 0. 0.]\n",
      "[1. 1. 1. 1. 1. 1. 1. 1. 1. 1.]\n",
      "[5 5 5 5 5 5 5 5 5 5]\n"
     ]
    }
   ],
   "source": [
    "#Write a NumPy program to create an array of 10 zeros,10 ones, 10 fives.\n",
    "print(np.zeros(10))\n",
    "print(np.ones(10))\n",
    "print(np.full(10,5))"
   ]
  },
  {
   "cell_type": "code",
   "execution_count": 22,
   "id": "06104d0a",
   "metadata": {},
   "outputs": [
    {
     "name": "stdout",
     "output_type": "stream",
     "text": [
      "0.5968318987244735\n"
     ]
    }
   ],
   "source": [
    "#Write a NumPy program to generate a random number between 0 and 1\n",
    "print(np.random.random())"
   ]
  },
  {
   "cell_type": "code",
   "execution_count": 27,
   "id": "4cf2c9b4",
   "metadata": {},
   "outputs": [
    {
     "name": "stdout",
     "output_type": "stream",
     "text": [
      "[[10 11 12 13]\n",
      " [14 15 16 17]\n",
      " [18 19 20 21]]\n"
     ]
    }
   ],
   "source": [
    "#Write a NumPy program to create a 3x4 matrix filled with values from 10 to 21.\n",
    "print(np.arange(10,22).reshape(3,4))\n"
   ]
  },
  {
   "cell_type": "code",
   "execution_count": 31,
   "id": "545e8e64",
   "metadata": {},
   "outputs": [
    {
     "name": "stdout",
     "output_type": "stream",
     "text": [
      "[1 2 3 4]\n"
     ]
    }
   ],
   "source": [
    "#Write a NumPy program to convert an array to a float type.\n",
    "#Sample output:\n",
    "Original_array=np.array([1, 2, 3, 4])\n",
    "print(Original_array.astype(int))\n"
   ]
  },
  {
   "cell_type": "code",
   "execution_count": 32,
   "id": "8dbb378b",
   "metadata": {},
   "outputs": [
    {
     "name": "stdout",
     "output_type": "stream",
     "text": [
      "[1 2 2 3 4 5 6]\n",
      "[1 2 5 8 9 8]\n"
     ]
    }
   ],
   "source": [
    "#Write a NumPy program to convert a list and tuple into arrays\n",
    "list=[1,2,2,3,4,5,6]\n",
    "tuple1=(1,2,5,8,9,8)\n",
    "print(np.array(list))\n",
    "print()\n",
    "print(np.array(tuple1))"
   ]
  },
  {
   "cell_type": "code",
   "execution_count": 35,
   "id": "5aa0c297",
   "metadata": {},
   "outputs": [
    {
     "name": "stdout",
     "output_type": "stream",
     "text": [
      "[10 40]\n"
     ]
    }
   ],
   "source": [
    "#Write a NumPy program to find common values between two arrays. \n",
    "Array1=np.array([ 0,10,20,40,60])\n",
    "Array2=np.array([10, 30, 40])\n",
    "print(np.intersect1d(Array1,Array2))\n",
    "    "
   ]
  },
  {
   "cell_type": "code",
   "execution_count": 38,
   "id": "991aa895",
   "metadata": {},
   "outputs": [
    {
     "name": "stdout",
     "output_type": "stream",
     "text": [
      "5\n",
      "0\n"
     ]
    }
   ],
   "source": [
    "#Write a NumPy program to find the indices of the maximum and minimum\n",
    "#values along the given axis of an array. \n",
    "#Original array: [1 2 3 4 5 6]\n",
    "x=np.array([1,2,3,4,5,6])\n",
    "print(np.argmax(x))\n",
    "print(np.argmin(x))\n"
   ]
  },
  {
   "cell_type": "code",
   "execution_count": 43,
   "id": "544ca1f9",
   "metadata": {},
   "outputs": [
    {
     "name": "stdout",
     "output_type": "stream",
     "text": [
      "-2.0000000000000004\n"
     ]
    }
   ],
   "source": [
    "#Write a NumPy program to compute the determinant of a given square\n",
    "#array.\n",
    "x=[[1,2],\n",
    "   [3,4]]\n",
    "a=np.array(x)\n",
    "print(np.linalg.det(a))"
   ]
  },
  {
   "cell_type": "code",
   "execution_count": 48,
   "id": "16995e87",
   "metadata": {},
   "outputs": [
    {
     "name": "stdout",
     "output_type": "stream",
     "text": [
      "[[ 1  4]\n",
      " [12 20]\n",
      " [ 1  4]]\n"
     ]
    }
   ],
   "source": [
    "#Write a NumPy program to compute the multiplication of two given\n",
    "#matrixes.\n",
    "a=np.array([[1,2],[4,5],[1,2]])\n",
    "b=np.array([[1,2],[3,4],[1,2]])\n",
    "print(np.multiply(a,b))\n"
   ]
  },
  {
   "cell_type": "code",
   "execution_count": 56,
   "id": "81fe18e3",
   "metadata": {},
   "outputs": [
    {
     "name": "stdout",
     "output_type": "stream",
     "text": [
      "[(b'James', 5, 48.5 ) (b'Nail', 6, 52.5 ) (b'Paul', 5, 42.1 )\n",
      " (b'Pit', 5, 40.11)]\n",
      "[(b'Pit', 5, 40.11) (b'Paul', 5, 42.1 ) (b'James', 5, 48.5 )\n",
      " (b'Nail', 6, 52.5 )]\n"
     ]
    }
   ],
   "source": [
    "#Write a NumPy program to create a structured array from given\n",
    "#student name, height, class and their data types. Now sort the array on\n",
    "#height. \n",
    "#Original array:\n",
    "#[('James', 5, 48.5 ) ('Nail', 6, 52.5 ) ('Paul', 5, 42.1 )\n",
    "#(Pit, 5, 40.11)]\n",
    "data_type=[('names','S15'),('class',int),('height',float)]\n",
    "Student_details=[('James',5,48.5),('Nail',6,52.5),('Paul',5,42.1),('Pit',5,40.11)]\n",
    "Student=np.array(Student_details,dtype=data_type)\n",
    "print(Student)\n",
    "print(np.sort(Student,order='height'))"
   ]
  },
  {
   "cell_type": "code",
   "execution_count": 57,
   "id": "2f44cee6",
   "metadata": {},
   "outputs": [
    {
     "name": "stdout",
     "output_type": "stream",
     "text": [
      "[0 3 4 6 1 5 2]\n"
     ]
    }
   ],
   "source": [
    "#Write a NumPy program to get the indices of the sorted elements of\n",
    "#a given array. \n",
    "#Original array:\n",
    "#[1023 5202 6230 1671 1682 5241 4532]\n",
    "x=np.array([1023,5202,6230,1671,1682,5241,4532])\n",
    "print(np.argsort(x))\n",
    "\n",
    "\n"
   ]
  },
  {
   "cell_type": "code",
   "execution_count": 65,
   "id": "e469fde0",
   "metadata": {},
   "outputs": [
    {
     "name": "stdout",
     "output_type": "stream",
     "text": [
      "['Python' 'Php']\n",
      "['Java' 'C++']\n",
      "['Python' 'Php' 'Java' 'C++']\n"
     ]
    }
   ],
   "source": [
    "#Write a NumPy program to concatenate element-wise two arrays of\n",
    "#string. \n",
    "#Array1:\n",
    "#['Python', 'PHP']\n",
    "#Array2:\n",
    "#['Java' ,'C++']\n",
    "a=np.array(['Python','Php'])\n",
    "b=np.array(['Java','C++'])\n",
    "print(a)\n",
    "print(b)\n",
    "print(np.concatenate((a,b)))"
   ]
  },
  {
   "cell_type": "code",
   "execution_count": 68,
   "id": "c9f30ca2",
   "metadata": {},
   "outputs": [
    {
     "name": "stdout",
     "output_type": "stream",
     "text": [
      "['Python' 'PHP' 'Java' 'C++']\n",
      "['PythonPythonPython' 'PHPPHPPHP' 'JavaJavaJava' 'C++C++C++']\n"
     ]
    }
   ],
   "source": [
    "#Write a NumPy program to repeat all the elements three times of a\n",
    "#given array of string \n",
    "#Expected Output:\n",
    "#Original Array:\n",
    "#[Python PHP Java C++]\n",
    "x=np.array(['Python','PHP','Java','C++'],dtype='str')\n",
    "print(x)\n",
    "print(np.char.multiply(x,3))"
   ]
  },
  {
   "cell_type": "code",
   "execution_count": 72,
   "id": "e28ad851",
   "metadata": {},
   "outputs": [
    {
     "name": "stdout",
     "output_type": "stream",
     "text": [
      "['Python PHP Java C++']\n",
      "[list(['Python', 'PHP', 'Java', 'C++'])]\n"
     ]
    }
   ],
   "source": [
    "#Write a NumPy program to split the element of a given array with\n",
    "#spaces. \n",
    "#Original Array:\n",
    "#[Python PHP Java C++]\n",
    "x=np.array(['Python PHP Java C++'],dtype='str')\n",
    "print(x)\n",
    "print(np.char.split(x))"
   ]
  },
  {
   "cell_type": "code",
   "execution_count": null,
   "id": "a735b3a4",
   "metadata": {},
   "outputs": [],
   "source": []
  }
 ],
 "metadata": {
  "kernelspec": {
   "display_name": "Python 3",
   "language": "python",
   "name": "python3"
  },
  "language_info": {
   "codemirror_mode": {
    "name": "ipython",
    "version": 3
   },
   "file_extension": ".py",
   "mimetype": "text/x-python",
   "name": "python",
   "nbconvert_exporter": "python",
   "pygments_lexer": "ipython3",
   "version": "3.8.8"
  }
 },
 "nbformat": 4,
 "nbformat_minor": 5
}
